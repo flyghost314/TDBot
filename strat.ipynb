{
 "cells": [
  {
   "cell_type": "code",
   "execution_count": null,
   "metadata": {},
   "outputs": [],
   "source": [
    "import numpy as np\n",
    "import plotly.graph_objects as go\n",
    "from pickle import dump\n",
    "from datetime import datetime\n",
    "from quantfreedom import dl_ex_candles\n",
    "from quantfreedom.indicators.tv_indicators import ema_tv\n",
    "\n",
    "%load_ext autoreload\n",
    "%autoreload 2"
   ]
  },
  {
   "cell_type": "code",
   "execution_count": null,
   "metadata": {},
   "outputs": [],
   "source": [
    "pkl_file_path = \"D:\\TDBot\\candle_databases\\pickle_files\\candles.pkl\"\n",
    "\n",
    "candles = dl_ex_candles(\n",
    "    exchange = \"mufex\",\n",
    "    symbol = \"BTCUSDT\",\n",
    "    timeframe = \"5m\",\n",
    "    since_datetime = datetime(2023, 10, 11),\n",
    "    until_datetime = datetime(2023, 12, 5),\n",
    ")"
   ]
  },
  {
   "cell_type": "code",
   "execution_count": null,
   "metadata": {},
   "outputs": [],
   "source": [
    "with open(pkl_file_path,\"wb\") as f:\n",
    "    dump(candles,f)"
   ]
  },
  {
   "cell_type": "code",
   "execution_count": null,
   "metadata": {},
   "outputs": [],
   "source": [
    "first_ema_length = 50\n",
    "second_ema_length = 140\n",
    "candle_close_prices = candles.candle_close_prices\n",
    "datetimes = candles.candle_open_datetimes"
   ]
  },
  {
   "cell_type": "code",
   "execution_count": null,
   "metadata": {},
   "outputs": [],
   "source": [
    "first_ema_not_rounded = ema_tv(\n",
    "    source=candle_close_prices,\n",
    "    length=first_ema_length,\n",
    ")\n",
    "\n",
    "first_ema = np.around(first_ema_not_rounded, decimals=2)\n",
    "\n",
    "first_ema_p = np.roll(first_ema,1)\n",
    "first_ema_p[0]= np.nan\n",
    "print(first_ema)\n",
    "print(first_ema_p)"
   ]
  },
  {
   "cell_type": "code",
   "execution_count": null,
   "metadata": {},
   "outputs": [],
   "source": [
    "second_ema_not_rounded = ema_tv(\n",
    "    source=candle_close_prices,\n",
    "    length=second_ema_length,\n",
    ")\n",
    "\n",
    "second_ema = np.around(second_ema_not_rounded, decimals=2)\n",
    "\n",
    "second_ema_p = np.roll(second_ema,1)\n",
    "second_ema_p[0]= np.nan\n",
    "print(second_ema)\n",
    "print(second_ema_p)"
   ]
  },
  {
   "cell_type": "code",
   "execution_count": null,
   "metadata": {},
   "outputs": [],
   "source": [
    "cur_first_above_second = first_ema > second_ema\n",
    "prev_first_below_second = first_ema_p < second_ema\n",
    "\n",
    "entries = cur_first_above_second & prev_first_below_second\n",
    "\n",
    "entry_signals = np.where (entries, first_ema, np.nan)\n",
    "\n",
    "exit_price = np.full_like(first_ema, np.nan)"
   ]
  },
  {
   "cell_type": "code",
   "execution_count": null,
   "metadata": {},
   "outputs": [],
   "source": [
    "fig = go.Figure()\n",
    "fig.add_candlestick(\n",
    "    x=datetimes,\n",
    "    open=candles.candle_open_prices,\n",
    "    high=candles.candle_high_prices,\n",
    "    low=candles.candle_low_prices,\n",
    "    close=candle_close_prices,\n",
    "    name=\"candles\",\n",
    ")\n",
    "fig.add_scatter(\n",
    "    x=datetimes,\n",
    "    y=first_ema,\n",
    "    name=\"First EMA\",\n",
    "    line=dict(color=\"yellow\",width=3),\n",
    ")\n",
    "fig.add_scatter(\n",
    "    x=datetimes,\n",
    "    y=second_ema,\n",
    "    name=\"second EMA\",\n",
    "    line=dict(color=\"blue\",width=3),\n",
    ")\n",
    "fig.add_scatter(\n",
    "    x=datetimes,\n",
    "    y=entry_signals,\n",
    "    name=\"Buy Signal\",\n",
    "    mode=\"markers\",\n",
    "    marker=dict(size=8, symbol=\"circle\",color=\"#00F6FF\"),\n",
    ")\n",
    "fig.update_layout(height=600, xaxis_rangeslider_visible=False)\n",
    "fig.show()"
   ]
  }
 ],
 "metadata": {
  "kernelspec": {
   "display_name": "qfree",
   "language": "python",
   "name": "python3"
  },
  "language_info": {
   "codemirror_mode": {
    "name": "ipython",
    "version": 3
   },
   "file_extension": ".py",
   "mimetype": "text/x-python",
   "name": "python",
   "nbconvert_exporter": "python",
   "pygments_lexer": "ipython3",
   "version": "3.12.5"
  }
 },
 "nbformat": 4,
 "nbformat_minor": 2
}
